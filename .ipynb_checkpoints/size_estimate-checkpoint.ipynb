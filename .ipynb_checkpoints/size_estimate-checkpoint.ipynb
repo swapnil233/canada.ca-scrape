{
 "cells": [
  {
   "cell_type": "code",
   "execution_count": 36,
   "id": "23ecae32",
   "metadata": {},
   "outputs": [
    {
     "name": "stdout",
     "output_type": "stream",
     "text": [
      "Requirement already satisfied: requests in /Users/hasaniqbal/anaconda3/lib/python3.11/site-packages (2.31.0)\r\n",
      "Requirement already satisfied: beautifulsoup4 in /Users/hasaniqbal/anaconda3/lib/python3.11/site-packages (4.12.2)\r\n",
      "Requirement already satisfied: numpy in /Users/hasaniqbal/anaconda3/lib/python3.11/site-packages (1.24.3)\r\n",
      "Requirement already satisfied: charset-normalizer<4,>=2 in /Users/hasaniqbal/anaconda3/lib/python3.11/site-packages (from requests) (2.0.4)\r\n",
      "Requirement already satisfied: idna<4,>=2.5 in /Users/hasaniqbal/anaconda3/lib/python3.11/site-packages (from requests) (3.4)\r\n",
      "Requirement already satisfied: urllib3<3,>=1.21.1 in /Users/hasaniqbal/anaconda3/lib/python3.11/site-packages (from requests) (1.26.16)\r\n",
      "Requirement already satisfied: certifi>=2017.4.17 in /Users/hasaniqbal/anaconda3/lib/python3.11/site-packages (from requests) (2023.11.17)\r\n",
      "Requirement already satisfied: soupsieve>1.2 in /Users/hasaniqbal/anaconda3/lib/python3.11/site-packages (from beautifulsoup4) (2.4)\r\n"
     ]
    }
   ],
   "source": [
    "!pip install requests beautifulsoup4 numpy"
   ]
  },
  {
   "cell_type": "code",
   "execution_count": 29,
   "id": "f7c9d004",
   "metadata": {},
   "outputs": [],
   "source": [
    "import xml.etree.ElementTree as ET\n",
    "import requests\n",
    "from bs4 import BeautifulSoup\n",
    "import random\n",
    "import numpy as np"
   ]
  },
  {
   "cell_type": "code",
   "execution_count": null,
   "id": "49af0218",
   "metadata": {},
   "outputs": [],
   "source": [
    "# Load and parse the main sitemap file\n",
    "main_sitemap_path = 'sitemap.xml'\n",
    "tree = ET.parse(main_sitemap_path)\n",
    "root = tree.getroot()\n",
    "\n",
    "# Namespace for parsing sitemap XML\n",
    "namespace = {'ns': 'http://www.sitemaps.org/schemas/sitemap/0.9'}"
   ]
  },
  {
   "cell_type": "code",
   "execution_count": 19,
   "id": "6e349816",
   "metadata": {},
   "outputs": [
    {
     "name": "stdout",
     "output_type": "stream",
     "text": [
      "Total English URLs: 251,372\n",
      "Total French URLs: 252,305\n"
     ]
    }
   ],
   "source": [
    "# Initialize counters and lists\n",
    "total_english_url_count = 0\n",
    "total_french_url_count = 0\n",
    "english_urls = []\n",
    "french_urls = []\n",
    "\n",
    "# Iterate through each sitemap in the main sitemap\n",
    "for sitemap in root.findall('ns:sitemap', namespace):\n",
    "    sitemap_url = sitemap.find('ns:loc', namespace).text\n",
    "    response = requests.get(sitemap_url)\n",
    "\n",
    "    # Parse the individual sitemap\n",
    "    sitemap_tree = ET.fromstring(response.content)\n",
    "    \n",
    "    # Iterate over each URL in the sitemap\n",
    "    for url_element in sitemap_tree.findall('ns:url', namespace):\n",
    "        url = url_element.find('ns:loc', namespace).text\n",
    "\n",
    "        # Check if English or French\n",
    "        if \"/en/\" in url:\n",
    "            total_english_url_count += 1\n",
    "            english_urls.append(url)\n",
    "        \n",
    "        elif \"/fr/\" in url:\n",
    "            total_french_url_count += 1\n",
    "            french_urls.append(url)\n",
    "\n",
    "print(f\"Total English URLs: {total_english_url_count:,}\")\n",
    "print(f\"Total French URLs: {total_french_url_count:,}\")"
   ]
  },
  {
   "cell_type": "code",
   "execution_count": 21,
   "id": "0051547d",
   "metadata": {},
   "outputs": [],
   "source": [
    "with open('english_urls.txt', 'w') as file:\n",
    "    for url in english_urls:\n",
    "        file.write(url + '\\n')\n",
    "\n",
    "with open('french_urls.txt', 'w') as file:\n",
    "    for url in french_urls:\n",
    "        file.write(url + '\\n')"
   ]
  },
  {
   "cell_type": "code",
   "execution_count": 25,
   "id": "2bd7b529",
   "metadata": {},
   "outputs": [
    {
     "name": "stdout",
     "output_type": "stream",
     "text": [
      "Iteration 1: Estimated size = 2.07 GB\n",
      "Iteration 2: Estimated size = 3.64 GB\n",
      "Iteration 3: Estimated size = 2.98 GB\n",
      "Iteration 4: Estimated size = 3.48 GB\n",
      "Iteration 5: Estimated size = 3.36 GB\n",
      "Iteration 6: Estimated size = 1.90 GB\n",
      "Iteration 7: Estimated size = 2.91 GB\n",
      "Iteration 8: Estimated size = 2.62 GB\n",
      "Iteration 9: Estimated size = 2.06 GB\n",
      "Iteration 10: Estimated size = 4.24 GB\n",
      "\n",
      "Mean Estimated Size: 2.93 GB\n",
      "Standard Deviation: 0.73 GB\n"
     ]
    }
   ],
   "source": [
    "sample_size = 100\n",
    "iterations = 10\n",
    "estimates = []\n",
    "\n",
    "# Function to perform one sampling and size estimation\n",
    "def estimate_size(sample_size, urls, total_url_count):\n",
    "    sampled_urls = random.sample(urls, sample_size)\n",
    "    total_sample_size_bytes = 0\n",
    "\n",
    "    for url in sampled_urls:\n",
    "        response = requests.get(url)\n",
    "        soup = BeautifulSoup(response.content, 'html.parser')\n",
    "        text_content = soup.get_text()\n",
    "        page_size_bytes = len(text_content.encode('utf-8'))\n",
    "        total_sample_size_bytes += page_size_bytes\n",
    "\n",
    "    average_page_size_bytes = total_sample_size_bytes / sample_size\n",
    "    estimated_total_size_bytes = average_page_size_bytes * total_url_count\n",
    "    estimated_total_size_gb = estimated_total_size_bytes / (1024 ** 3)\n",
    "    return estimated_total_size_gb\n",
    "\n",
    "for i in range(iterations):\n",
    "    estimate = estimate_size(sample_size, english_urls, total_english_url_count)\n",
    "    estimates.append(estimate)\n",
    "    print(f\"Iteration {i+1}: Estimated size = {estimate:.2f} GB\")"
   ]
  },
  {
   "cell_type": "code",
   "execution_count": 34,
   "id": "3802c60d",
   "metadata": {},
   "outputs": [
    {
     "name": "stdout",
     "output_type": "stream",
     "text": [
      "\n",
      "Mean Estimated Size (of English pages only): 2.93 GB\n",
      "Standard Deviation: 0.73 GB\n"
     ]
    }
   ],
   "source": [
    "mean_estimate = np.mean(estimates)\n",
    "std_deviation = np.std(estimates)\n",
    "\n",
    "print(f\"\\nMean Estimated Size (of English pages only): {mean_estimate:.2f} GB\")\n",
    "print(f\"Standard Deviation: {std_deviation:.2f} GB\")"
   ]
  }
 ],
 "metadata": {
  "kernelspec": {
   "display_name": "Python 3 (ipykernel)",
   "language": "python",
   "name": "python3"
  },
  "language_info": {
   "codemirror_mode": {
    "name": "ipython",
    "version": 3
   },
   "file_extension": ".py",
   "mimetype": "text/x-python",
   "name": "python",
   "nbconvert_exporter": "python",
   "pygments_lexer": "ipython3",
   "version": "3.11.5"
  }
 },
 "nbformat": 4,
 "nbformat_minor": 5
}
